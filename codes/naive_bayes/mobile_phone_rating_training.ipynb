{
 "cells": [
  {
   "cell_type": "code",
   "execution_count": 1,
   "metadata": {},
   "outputs": [],
   "source": [
    "\n",
    "import pandas as pd\n",
    "import numpy as np\n",
    "import os\n",
    "\n",
    "df=pd.read_csv(\"../../data/01-modified-data/after_clean_mobile_phone_rating.csv\")"
   ]
  },
  {
   "cell_type": "code",
   "execution_count": 2,
   "metadata": {},
   "outputs": [
    {
     "data": {
      "text/html": [
       "<div>\n",
       "<style scoped>\n",
       "    .dataframe tbody tr th:only-of-type {\n",
       "        vertical-align: middle;\n",
       "    }\n",
       "\n",
       "    .dataframe tbody tr th {\n",
       "        vertical-align: top;\n",
       "    }\n",
       "\n",
       "    .dataframe thead th {\n",
       "        text-align: right;\n",
       "    }\n",
       "</style>\n",
       "<table border=\"1\" class=\"dataframe\">\n",
       "  <thead>\n",
       "    <tr style=\"text-align: right;\">\n",
       "      <th></th>\n",
       "      <th>Device</th>\n",
       "      <th>Launch Price</th>\n",
       "      <th>Launch Date</th>\n",
       "      <th>CAMERA</th>\n",
       "      <th>SELFIE</th>\n",
       "      <th>AUDIO</th>\n",
       "      <th>DISPLAY</th>\n",
       "      <th>BATTERY</th>\n",
       "      <th>buying_intent</th>\n",
       "    </tr>\n",
       "  </thead>\n",
       "  <tbody>\n",
       "    <tr>\n",
       "      <th>0</th>\n",
       "      <td>Xiaomi 12T</td>\n",
       "      <td>599</td>\n",
       "      <td>2022-10-01</td>\n",
       "      <td>115</td>\n",
       "      <td>130.0</td>\n",
       "      <td>126.0</td>\n",
       "      <td>131.0</td>\n",
       "      <td>118.0</td>\n",
       "      <td>moderately_willing</td>\n",
       "    </tr>\n",
       "    <tr>\n",
       "      <th>1</th>\n",
       "      <td>OnePlus Nord 2T 5G</td>\n",
       "      <td>399</td>\n",
       "      <td>2022-05-01</td>\n",
       "      <td>114</td>\n",
       "      <td>130.0</td>\n",
       "      <td>115.0</td>\n",
       "      <td>128.0</td>\n",
       "      <td>112.0</td>\n",
       "      <td>moderately_willing</td>\n",
       "    </tr>\n",
       "    <tr>\n",
       "      <th>2</th>\n",
       "      <td>Samsung Galaxy S21+ 5G (Exynos)</td>\n",
       "      <td>1059</td>\n",
       "      <td>2021-01-01</td>\n",
       "      <td>111</td>\n",
       "      <td>130.0</td>\n",
       "      <td>124.0</td>\n",
       "      <td>128.0</td>\n",
       "      <td>114.0</td>\n",
       "      <td>moderately_willing</td>\n",
       "    </tr>\n",
       "    <tr>\n",
       "      <th>3</th>\n",
       "      <td>Oppo A94 5G</td>\n",
       "      <td>359</td>\n",
       "      <td>2021-03-01</td>\n",
       "      <td>93</td>\n",
       "      <td>130.0</td>\n",
       "      <td>124.0</td>\n",
       "      <td>128.0</td>\n",
       "      <td>127.0</td>\n",
       "      <td>not_willing</td>\n",
       "    </tr>\n",
       "    <tr>\n",
       "      <th>4</th>\n",
       "      <td>Apple iPhone 14 Plus</td>\n",
       "      <td>899</td>\n",
       "      <td>2022-10-01</td>\n",
       "      <td>133</td>\n",
       "      <td>144.0</td>\n",
       "      <td>141.0</td>\n",
       "      <td>140.0</td>\n",
       "      <td>128.0</td>\n",
       "      <td>very_willing</td>\n",
       "    </tr>\n",
       "    <tr>\n",
       "      <th>...</th>\n",
       "      <td>...</td>\n",
       "      <td>...</td>\n",
       "      <td>...</td>\n",
       "      <td>...</td>\n",
       "      <td>...</td>\n",
       "      <td>...</td>\n",
       "      <td>...</td>\n",
       "      <td>...</td>\n",
       "      <td>...</td>\n",
       "    </tr>\n",
       "    <tr>\n",
       "      <th>148</th>\n",
       "      <td>Sony Xperia 5 V</td>\n",
       "      <td>999</td>\n",
       "      <td>2023-09-01</td>\n",
       "      <td>118</td>\n",
       "      <td>130.0</td>\n",
       "      <td>124.0</td>\n",
       "      <td>128.0</td>\n",
       "      <td>114.0</td>\n",
       "      <td>moderately_willing</td>\n",
       "    </tr>\n",
       "    <tr>\n",
       "      <th>149</th>\n",
       "      <td>Huawei P40</td>\n",
       "      <td>799</td>\n",
       "      <td>2020-02-01</td>\n",
       "      <td>102</td>\n",
       "      <td>130.0</td>\n",
       "      <td>124.0</td>\n",
       "      <td>128.0</td>\n",
       "      <td>114.0</td>\n",
       "      <td>not_willing</td>\n",
       "    </tr>\n",
       "    <tr>\n",
       "      <th>150</th>\n",
       "      <td>Xiaomi Mi 11 Ultra</td>\n",
       "      <td>1200</td>\n",
       "      <td>2021-03-01</td>\n",
       "      <td>141</td>\n",
       "      <td>125.0</td>\n",
       "      <td>119.0</td>\n",
       "      <td>124.0</td>\n",
       "      <td>108.0</td>\n",
       "      <td>very_willing</td>\n",
       "    </tr>\n",
       "    <tr>\n",
       "      <th>151</th>\n",
       "      <td>Xiaomi 12</td>\n",
       "      <td>749</td>\n",
       "      <td>2022-03-01</td>\n",
       "      <td>113</td>\n",
       "      <td>130.0</td>\n",
       "      <td>122.0</td>\n",
       "      <td>118.0</td>\n",
       "      <td>100.0</td>\n",
       "      <td>moderately_willing</td>\n",
       "    </tr>\n",
       "    <tr>\n",
       "      <th>152</th>\n",
       "      <td>Xiaomi 11T Pro</td>\n",
       "      <td>699</td>\n",
       "      <td>2021-09-01</td>\n",
       "      <td>108</td>\n",
       "      <td>121.0</td>\n",
       "      <td>128.0</td>\n",
       "      <td>125.0</td>\n",
       "      <td>126.0</td>\n",
       "      <td>not_willing</td>\n",
       "    </tr>\n",
       "  </tbody>\n",
       "</table>\n",
       "<p>153 rows × 9 columns</p>\n",
       "</div>"
      ],
      "text/plain": [
       "                              Device  Launch Price Launch Date  CAMERA  \\\n",
       "0                         Xiaomi 12T           599  2022-10-01     115   \n",
       "1                 OnePlus Nord 2T 5G           399  2022-05-01     114   \n",
       "2    Samsung Galaxy S21+ 5G (Exynos)          1059  2021-01-01     111   \n",
       "3                        Oppo A94 5G           359  2021-03-01      93   \n",
       "4               Apple iPhone 14 Plus           899  2022-10-01     133   \n",
       "..                               ...           ...         ...     ...   \n",
       "148                  Sony Xperia 5 V           999  2023-09-01     118   \n",
       "149                       Huawei P40           799  2020-02-01     102   \n",
       "150               Xiaomi Mi 11 Ultra          1200  2021-03-01     141   \n",
       "151                        Xiaomi 12           749  2022-03-01     113   \n",
       "152                   Xiaomi 11T Pro           699  2021-09-01     108   \n",
       "\n",
       "     SELFIE  AUDIO  DISPLAY  BATTERY       buying_intent  \n",
       "0     130.0  126.0    131.0    118.0  moderately_willing  \n",
       "1     130.0  115.0    128.0    112.0  moderately_willing  \n",
       "2     130.0  124.0    128.0    114.0  moderately_willing  \n",
       "3     130.0  124.0    128.0    127.0         not_willing  \n",
       "4     144.0  141.0    140.0    128.0        very_willing  \n",
       "..      ...    ...      ...      ...                 ...  \n",
       "148   130.0  124.0    128.0    114.0  moderately_willing  \n",
       "149   130.0  124.0    128.0    114.0         not_willing  \n",
       "150   125.0  119.0    124.0    108.0        very_willing  \n",
       "151   130.0  122.0    118.0    100.0  moderately_willing  \n",
       "152   121.0  128.0    125.0    126.0         not_willing  \n",
       "\n",
       "[153 rows x 9 columns]"
      ]
     },
     "execution_count": 2,
     "metadata": {},
     "output_type": "execute_result"
    }
   ],
   "source": [
    "df"
   ]
  },
  {
   "cell_type": "code",
   "execution_count": 3,
   "metadata": {},
   "outputs": [
    {
     "data": {
      "text/html": [
       "<div>\n",
       "<style scoped>\n",
       "    .dataframe tbody tr th:only-of-type {\n",
       "        vertical-align: middle;\n",
       "    }\n",
       "\n",
       "    .dataframe tbody tr th {\n",
       "        vertical-align: top;\n",
       "    }\n",
       "\n",
       "    .dataframe thead th {\n",
       "        text-align: right;\n",
       "    }\n",
       "</style>\n",
       "<table border=\"1\" class=\"dataframe\">\n",
       "  <thead>\n",
       "    <tr style=\"text-align: right;\">\n",
       "      <th></th>\n",
       "      <th>Launch Price</th>\n",
       "      <th>CAMERA</th>\n",
       "      <th>SELFIE</th>\n",
       "      <th>AUDIO</th>\n",
       "      <th>DISPLAY</th>\n",
       "      <th>BATTERY</th>\n",
       "    </tr>\n",
       "  </thead>\n",
       "  <tbody>\n",
       "    <tr>\n",
       "      <th>0</th>\n",
       "      <td>599</td>\n",
       "      <td>115</td>\n",
       "      <td>130.0</td>\n",
       "      <td>126.0</td>\n",
       "      <td>131.0</td>\n",
       "      <td>118.0</td>\n",
       "    </tr>\n",
       "    <tr>\n",
       "      <th>1</th>\n",
       "      <td>399</td>\n",
       "      <td>114</td>\n",
       "      <td>130.0</td>\n",
       "      <td>115.0</td>\n",
       "      <td>128.0</td>\n",
       "      <td>112.0</td>\n",
       "    </tr>\n",
       "    <tr>\n",
       "      <th>2</th>\n",
       "      <td>1059</td>\n",
       "      <td>111</td>\n",
       "      <td>130.0</td>\n",
       "      <td>124.0</td>\n",
       "      <td>128.0</td>\n",
       "      <td>114.0</td>\n",
       "    </tr>\n",
       "    <tr>\n",
       "      <th>3</th>\n",
       "      <td>359</td>\n",
       "      <td>93</td>\n",
       "      <td>130.0</td>\n",
       "      <td>124.0</td>\n",
       "      <td>128.0</td>\n",
       "      <td>127.0</td>\n",
       "    </tr>\n",
       "    <tr>\n",
       "      <th>4</th>\n",
       "      <td>899</td>\n",
       "      <td>133</td>\n",
       "      <td>144.0</td>\n",
       "      <td>141.0</td>\n",
       "      <td>140.0</td>\n",
       "      <td>128.0</td>\n",
       "    </tr>\n",
       "    <tr>\n",
       "      <th>...</th>\n",
       "      <td>...</td>\n",
       "      <td>...</td>\n",
       "      <td>...</td>\n",
       "      <td>...</td>\n",
       "      <td>...</td>\n",
       "      <td>...</td>\n",
       "    </tr>\n",
       "    <tr>\n",
       "      <th>148</th>\n",
       "      <td>999</td>\n",
       "      <td>118</td>\n",
       "      <td>130.0</td>\n",
       "      <td>124.0</td>\n",
       "      <td>128.0</td>\n",
       "      <td>114.0</td>\n",
       "    </tr>\n",
       "    <tr>\n",
       "      <th>149</th>\n",
       "      <td>799</td>\n",
       "      <td>102</td>\n",
       "      <td>130.0</td>\n",
       "      <td>124.0</td>\n",
       "      <td>128.0</td>\n",
       "      <td>114.0</td>\n",
       "    </tr>\n",
       "    <tr>\n",
       "      <th>150</th>\n",
       "      <td>1200</td>\n",
       "      <td>141</td>\n",
       "      <td>125.0</td>\n",
       "      <td>119.0</td>\n",
       "      <td>124.0</td>\n",
       "      <td>108.0</td>\n",
       "    </tr>\n",
       "    <tr>\n",
       "      <th>151</th>\n",
       "      <td>749</td>\n",
       "      <td>113</td>\n",
       "      <td>130.0</td>\n",
       "      <td>122.0</td>\n",
       "      <td>118.0</td>\n",
       "      <td>100.0</td>\n",
       "    </tr>\n",
       "    <tr>\n",
       "      <th>152</th>\n",
       "      <td>699</td>\n",
       "      <td>108</td>\n",
       "      <td>121.0</td>\n",
       "      <td>128.0</td>\n",
       "      <td>125.0</td>\n",
       "      <td>126.0</td>\n",
       "    </tr>\n",
       "  </tbody>\n",
       "</table>\n",
       "<p>153 rows × 6 columns</p>\n",
       "</div>"
      ],
      "text/plain": [
       "     Launch Price  CAMERA  SELFIE  AUDIO  DISPLAY  BATTERY\n",
       "0             599     115   130.0  126.0    131.0    118.0\n",
       "1             399     114   130.0  115.0    128.0    112.0\n",
       "2            1059     111   130.0  124.0    128.0    114.0\n",
       "3             359      93   130.0  124.0    128.0    127.0\n",
       "4             899     133   144.0  141.0    140.0    128.0\n",
       "..            ...     ...     ...    ...      ...      ...\n",
       "148           999     118   130.0  124.0    128.0    114.0\n",
       "149           799     102   130.0  124.0    128.0    114.0\n",
       "150          1200     141   125.0  119.0    124.0    108.0\n",
       "151           749     113   130.0  122.0    118.0    100.0\n",
       "152           699     108   121.0  128.0    125.0    126.0\n",
       "\n",
       "[153 rows x 6 columns]"
      ]
     },
     "execution_count": 3,
     "metadata": {},
     "output_type": "execute_result"
    }
   ],
   "source": [
    "# 3.2.2 Feature selection\n",
    "# variance thredhold\n",
    "from sklearn.feature_selection import VarianceThreshold\n",
    "df_feature=df[['Launch Price','CAMERA','SELFIE','AUDIO','DISPLAY','BATTERY']]\n",
    "df_feature\n"
   ]
  },
  {
   "cell_type": "code",
   "execution_count": 4,
   "metadata": {},
   "outputs": [
    {
     "data": {
      "text/html": [
       "<div>\n",
       "<style scoped>\n",
       "    .dataframe tbody tr th:only-of-type {\n",
       "        vertical-align: middle;\n",
       "    }\n",
       "\n",
       "    .dataframe tbody tr th {\n",
       "        vertical-align: top;\n",
       "    }\n",
       "\n",
       "    .dataframe thead th {\n",
       "        text-align: right;\n",
       "    }\n",
       "</style>\n",
       "<table border=\"1\" class=\"dataframe\">\n",
       "  <thead>\n",
       "    <tr style=\"text-align: right;\">\n",
       "      <th></th>\n",
       "      <th>count</th>\n",
       "      <th>mean</th>\n",
       "      <th>std</th>\n",
       "      <th>min</th>\n",
       "      <th>25%</th>\n",
       "      <th>50%</th>\n",
       "      <th>75%</th>\n",
       "      <th>max</th>\n",
       "    </tr>\n",
       "  </thead>\n",
       "  <tbody>\n",
       "    <tr>\n",
       "      <th>Launch Price</th>\n",
       "      <td>153.0</td>\n",
       "      <td>773.542484</td>\n",
       "      <td>376.630595</td>\n",
       "      <td>139.0</td>\n",
       "      <td>459.0</td>\n",
       "      <td>799.0</td>\n",
       "      <td>999.0</td>\n",
       "      <td>1799.0</td>\n",
       "    </tr>\n",
       "    <tr>\n",
       "      <th>CAMERA</th>\n",
       "      <td>153.0</td>\n",
       "      <td>111.274510</td>\n",
       "      <td>26.744708</td>\n",
       "      <td>51.0</td>\n",
       "      <td>94.0</td>\n",
       "      <td>117.0</td>\n",
       "      <td>130.0</td>\n",
       "      <td>156.0</td>\n",
       "    </tr>\n",
       "    <tr>\n",
       "      <th>SELFIE</th>\n",
       "      <td>153.0</td>\n",
       "      <td>130.065359</td>\n",
       "      <td>6.664589</td>\n",
       "      <td>83.0</td>\n",
       "      <td>130.0</td>\n",
       "      <td>130.0</td>\n",
       "      <td>130.0</td>\n",
       "      <td>149.0</td>\n",
       "    </tr>\n",
       "    <tr>\n",
       "      <th>AUDIO</th>\n",
       "      <td>153.0</td>\n",
       "      <td>124.241830</td>\n",
       "      <td>11.857169</td>\n",
       "      <td>86.0</td>\n",
       "      <td>120.0</td>\n",
       "      <td>124.0</td>\n",
       "      <td>132.0</td>\n",
       "      <td>161.0</td>\n",
       "    </tr>\n",
       "    <tr>\n",
       "      <th>DISPLAY</th>\n",
       "      <td>153.0</td>\n",
       "      <td>128.183007</td>\n",
       "      <td>11.031914</td>\n",
       "      <td>87.0</td>\n",
       "      <td>125.0</td>\n",
       "      <td>128.0</td>\n",
       "      <td>133.0</td>\n",
       "      <td>152.0</td>\n",
       "    </tr>\n",
       "    <tr>\n",
       "      <th>BATTERY</th>\n",
       "      <td>153.0</td>\n",
       "      <td>114.627451</td>\n",
       "      <td>15.107894</td>\n",
       "      <td>75.0</td>\n",
       "      <td>106.0</td>\n",
       "      <td>114.0</td>\n",
       "      <td>126.0</td>\n",
       "      <td>152.0</td>\n",
       "    </tr>\n",
       "  </tbody>\n",
       "</table>\n",
       "</div>"
      ],
      "text/plain": [
       "              count        mean         std    min    25%    50%    75%  \\\n",
       "Launch Price  153.0  773.542484  376.630595  139.0  459.0  799.0  999.0   \n",
       "CAMERA        153.0  111.274510   26.744708   51.0   94.0  117.0  130.0   \n",
       "SELFIE        153.0  130.065359    6.664589   83.0  130.0  130.0  130.0   \n",
       "AUDIO         153.0  124.241830   11.857169   86.0  120.0  124.0  132.0   \n",
       "DISPLAY       153.0  128.183007   11.031914   87.0  125.0  128.0  133.0   \n",
       "BATTERY       153.0  114.627451   15.107894   75.0  106.0  114.0  126.0   \n",
       "\n",
       "                 max  \n",
       "Launch Price  1799.0  \n",
       "CAMERA         156.0  \n",
       "SELFIE         149.0  \n",
       "AUDIO          161.0  \n",
       "DISPLAY        152.0  \n",
       "BATTERY        152.0  "
      ]
     },
     "execution_count": 4,
     "metadata": {},
     "output_type": "execute_result"
    }
   ],
   "source": [
    "var=df['SELFIE'].var()\n",
    "\n",
    "df.describe().T"
   ]
  },
  {
   "cell_type": "code",
   "execution_count": 5,
   "metadata": {},
   "outputs": [
    {
     "data": {
      "text/html": [
       "<style>#sk-container-id-1 {color: black;}#sk-container-id-1 pre{padding: 0;}#sk-container-id-1 div.sk-toggleable {background-color: white;}#sk-container-id-1 label.sk-toggleable__label {cursor: pointer;display: block;width: 100%;margin-bottom: 0;padding: 0.3em;box-sizing: border-box;text-align: center;}#sk-container-id-1 label.sk-toggleable__label-arrow:before {content: \"▸\";float: left;margin-right: 0.25em;color: #696969;}#sk-container-id-1 label.sk-toggleable__label-arrow:hover:before {color: black;}#sk-container-id-1 div.sk-estimator:hover label.sk-toggleable__label-arrow:before {color: black;}#sk-container-id-1 div.sk-toggleable__content {max-height: 0;max-width: 0;overflow: hidden;text-align: left;background-color: #f0f8ff;}#sk-container-id-1 div.sk-toggleable__content pre {margin: 0.2em;color: black;border-radius: 0.25em;background-color: #f0f8ff;}#sk-container-id-1 input.sk-toggleable__control:checked~div.sk-toggleable__content {max-height: 200px;max-width: 100%;overflow: auto;}#sk-container-id-1 input.sk-toggleable__control:checked~label.sk-toggleable__label-arrow:before {content: \"▾\";}#sk-container-id-1 div.sk-estimator input.sk-toggleable__control:checked~label.sk-toggleable__label {background-color: #d4ebff;}#sk-container-id-1 div.sk-label input.sk-toggleable__control:checked~label.sk-toggleable__label {background-color: #d4ebff;}#sk-container-id-1 input.sk-hidden--visually {border: 0;clip: rect(1px 1px 1px 1px);clip: rect(1px, 1px, 1px, 1px);height: 1px;margin: -1px;overflow: hidden;padding: 0;position: absolute;width: 1px;}#sk-container-id-1 div.sk-estimator {font-family: monospace;background-color: #f0f8ff;border: 1px dotted black;border-radius: 0.25em;box-sizing: border-box;margin-bottom: 0.5em;}#sk-container-id-1 div.sk-estimator:hover {background-color: #d4ebff;}#sk-container-id-1 div.sk-parallel-item::after {content: \"\";width: 100%;border-bottom: 1px solid gray;flex-grow: 1;}#sk-container-id-1 div.sk-label:hover label.sk-toggleable__label {background-color: #d4ebff;}#sk-container-id-1 div.sk-serial::before {content: \"\";position: absolute;border-left: 1px solid gray;box-sizing: border-box;top: 0;bottom: 0;left: 50%;z-index: 0;}#sk-container-id-1 div.sk-serial {display: flex;flex-direction: column;align-items: center;background-color: white;padding-right: 0.2em;padding-left: 0.2em;position: relative;}#sk-container-id-1 div.sk-item {position: relative;z-index: 1;}#sk-container-id-1 div.sk-parallel {display: flex;align-items: stretch;justify-content: center;background-color: white;position: relative;}#sk-container-id-1 div.sk-item::before, #sk-container-id-1 div.sk-parallel-item::before {content: \"\";position: absolute;border-left: 1px solid gray;box-sizing: border-box;top: 0;bottom: 0;left: 50%;z-index: -1;}#sk-container-id-1 div.sk-parallel-item {display: flex;flex-direction: column;z-index: 1;position: relative;background-color: white;}#sk-container-id-1 div.sk-parallel-item:first-child::after {align-self: flex-end;width: 50%;}#sk-container-id-1 div.sk-parallel-item:last-child::after {align-self: flex-start;width: 50%;}#sk-container-id-1 div.sk-parallel-item:only-child::after {width: 0;}#sk-container-id-1 div.sk-dashed-wrapped {border: 1px dashed gray;margin: 0 0.4em 0.5em 0.4em;box-sizing: border-box;padding-bottom: 0.4em;background-color: white;}#sk-container-id-1 div.sk-label label {font-family: monospace;font-weight: bold;display: inline-block;line-height: 1.2em;}#sk-container-id-1 div.sk-label-container {text-align: center;}#sk-container-id-1 div.sk-container {/* jupyter's `normalize.less` sets `[hidden] { display: none; }` but bootstrap.min.css set `[hidden] { display: none !important; }` so we also need the `!important` here to be able to override the default hidden behavior on the sphinx rendered scikit-learn.org. See: https://github.com/scikit-learn/scikit-learn/issues/21755 */display: inline-block !important;position: relative;}#sk-container-id-1 div.sk-text-repr-fallback {display: none;}</style><div id=\"sk-container-id-1\" class=\"sk-top-container\"><div class=\"sk-text-repr-fallback\"><pre>VarianceThreshold(threshold=45)</pre><b>In a Jupyter environment, please rerun this cell to show the HTML representation or trust the notebook. <br />On GitHub, the HTML representation is unable to render, please try loading this page with nbviewer.org.</b></div><div class=\"sk-container\" hidden><div class=\"sk-item\"><div class=\"sk-estimator sk-toggleable\"><input class=\"sk-toggleable__control sk-hidden--visually\" id=\"sk-estimator-id-1\" type=\"checkbox\" checked><label for=\"sk-estimator-id-1\" class=\"sk-toggleable__label sk-toggleable__label-arrow\">VarianceThreshold</label><div class=\"sk-toggleable__content\"><pre>VarianceThreshold(threshold=45)</pre></div></div></div></div></div>"
      ],
      "text/plain": [
       "VarianceThreshold(threshold=45)"
      ]
     },
     "execution_count": 5,
     "metadata": {},
     "output_type": "execute_result"
    }
   ],
   "source": [
    "var_thres=VarianceThreshold(threshold=45)\n",
    "var_thres.fit(df_feature)"
   ]
  },
  {
   "cell_type": "code",
   "execution_count": 6,
   "metadata": {},
   "outputs": [
    {
     "data": {
      "text/plain": [
       "array([ True,  True, False,  True,  True,  True])"
      ]
     },
     "execution_count": 6,
     "metadata": {},
     "output_type": "execute_result"
    }
   ],
   "source": [
    "var_thres.get_support()"
   ]
  },
  {
   "cell_type": "markdown",
   "metadata": {},
   "source": []
  },
  {
   "cell_type": "code",
   "execution_count": 7,
   "metadata": {},
   "outputs": [
    {
     "name": "stdout",
     "output_type": "stream",
     "text": [
      "1\n",
      "The dropped feature is:  SELFIE\n"
     ]
    }
   ],
   "source": [
    "constant_columns = [column for column in df_feature.columns\n",
    "                    if column not in df_feature.columns[var_thres.get_support()]]\n",
    "print(len(constant_columns))\n",
    "for feature in constant_columns:\n",
    "    print('The dropped feature is: ',feature)"
   ]
  },
  {
   "cell_type": "code",
   "execution_count": 8,
   "metadata": {},
   "outputs": [
    {
     "name": "stderr",
     "output_type": "stream",
     "text": [
      "/var/folders/rx/nxz5w_293m7dsx3fbcd187380000gn/T/ipykernel_34491/4119951636.py:1: SettingWithCopyWarning: \n",
      "A value is trying to be set on a copy of a slice from a DataFrame\n",
      "\n",
      "See the caveats in the documentation: https://pandas.pydata.org/pandas-docs/stable/user_guide/indexing.html#returning-a-view-versus-a-copy\n",
      "  df_feature.drop(constant_columns,axis=1,inplace=True)\n"
     ]
    },
    {
     "data": {
      "text/html": [
       "<div>\n",
       "<style scoped>\n",
       "    .dataframe tbody tr th:only-of-type {\n",
       "        vertical-align: middle;\n",
       "    }\n",
       "\n",
       "    .dataframe tbody tr th {\n",
       "        vertical-align: top;\n",
       "    }\n",
       "\n",
       "    .dataframe thead th {\n",
       "        text-align: right;\n",
       "    }\n",
       "</style>\n",
       "<table border=\"1\" class=\"dataframe\">\n",
       "  <thead>\n",
       "    <tr style=\"text-align: right;\">\n",
       "      <th></th>\n",
       "      <th>Launch Price</th>\n",
       "      <th>CAMERA</th>\n",
       "      <th>AUDIO</th>\n",
       "      <th>DISPLAY</th>\n",
       "      <th>BATTERY</th>\n",
       "    </tr>\n",
       "  </thead>\n",
       "  <tbody>\n",
       "    <tr>\n",
       "      <th>0</th>\n",
       "      <td>599</td>\n",
       "      <td>115</td>\n",
       "      <td>126.0</td>\n",
       "      <td>131.0</td>\n",
       "      <td>118.0</td>\n",
       "    </tr>\n",
       "    <tr>\n",
       "      <th>1</th>\n",
       "      <td>399</td>\n",
       "      <td>114</td>\n",
       "      <td>115.0</td>\n",
       "      <td>128.0</td>\n",
       "      <td>112.0</td>\n",
       "    </tr>\n",
       "    <tr>\n",
       "      <th>2</th>\n",
       "      <td>1059</td>\n",
       "      <td>111</td>\n",
       "      <td>124.0</td>\n",
       "      <td>128.0</td>\n",
       "      <td>114.0</td>\n",
       "    </tr>\n",
       "    <tr>\n",
       "      <th>3</th>\n",
       "      <td>359</td>\n",
       "      <td>93</td>\n",
       "      <td>124.0</td>\n",
       "      <td>128.0</td>\n",
       "      <td>127.0</td>\n",
       "    </tr>\n",
       "    <tr>\n",
       "      <th>4</th>\n",
       "      <td>899</td>\n",
       "      <td>133</td>\n",
       "      <td>141.0</td>\n",
       "      <td>140.0</td>\n",
       "      <td>128.0</td>\n",
       "    </tr>\n",
       "    <tr>\n",
       "      <th>...</th>\n",
       "      <td>...</td>\n",
       "      <td>...</td>\n",
       "      <td>...</td>\n",
       "      <td>...</td>\n",
       "      <td>...</td>\n",
       "    </tr>\n",
       "    <tr>\n",
       "      <th>148</th>\n",
       "      <td>999</td>\n",
       "      <td>118</td>\n",
       "      <td>124.0</td>\n",
       "      <td>128.0</td>\n",
       "      <td>114.0</td>\n",
       "    </tr>\n",
       "    <tr>\n",
       "      <th>149</th>\n",
       "      <td>799</td>\n",
       "      <td>102</td>\n",
       "      <td>124.0</td>\n",
       "      <td>128.0</td>\n",
       "      <td>114.0</td>\n",
       "    </tr>\n",
       "    <tr>\n",
       "      <th>150</th>\n",
       "      <td>1200</td>\n",
       "      <td>141</td>\n",
       "      <td>119.0</td>\n",
       "      <td>124.0</td>\n",
       "      <td>108.0</td>\n",
       "    </tr>\n",
       "    <tr>\n",
       "      <th>151</th>\n",
       "      <td>749</td>\n",
       "      <td>113</td>\n",
       "      <td>122.0</td>\n",
       "      <td>118.0</td>\n",
       "      <td>100.0</td>\n",
       "    </tr>\n",
       "    <tr>\n",
       "      <th>152</th>\n",
       "      <td>699</td>\n",
       "      <td>108</td>\n",
       "      <td>128.0</td>\n",
       "      <td>125.0</td>\n",
       "      <td>126.0</td>\n",
       "    </tr>\n",
       "  </tbody>\n",
       "</table>\n",
       "<p>153 rows × 5 columns</p>\n",
       "</div>"
      ],
      "text/plain": [
       "     Launch Price  CAMERA  AUDIO  DISPLAY  BATTERY\n",
       "0             599     115  126.0    131.0    118.0\n",
       "1             399     114  115.0    128.0    112.0\n",
       "2            1059     111  124.0    128.0    114.0\n",
       "3             359      93  124.0    128.0    127.0\n",
       "4             899     133  141.0    140.0    128.0\n",
       "..            ...     ...    ...      ...      ...\n",
       "148           999     118  124.0    128.0    114.0\n",
       "149           799     102  124.0    128.0    114.0\n",
       "150          1200     141  119.0    124.0    108.0\n",
       "151           749     113  122.0    118.0    100.0\n",
       "152           699     108  128.0    125.0    126.0\n",
       "\n",
       "[153 rows x 5 columns]"
      ]
     },
     "execution_count": 8,
     "metadata": {},
     "output_type": "execute_result"
    }
   ],
   "source": [
    "df_feature.drop(constant_columns,axis=1,inplace=True)\n",
    "df_feature"
   ]
  },
  {
   "cell_type": "code",
   "execution_count": 9,
   "metadata": {},
   "outputs": [
    {
     "data": {
      "text/html": [
       "<div>\n",
       "<style scoped>\n",
       "    .dataframe tbody tr th:only-of-type {\n",
       "        vertical-align: middle;\n",
       "    }\n",
       "\n",
       "    .dataframe tbody tr th {\n",
       "        vertical-align: top;\n",
       "    }\n",
       "\n",
       "    .dataframe thead th {\n",
       "        text-align: right;\n",
       "    }\n",
       "</style>\n",
       "<table border=\"1\" class=\"dataframe\">\n",
       "  <thead>\n",
       "    <tr style=\"text-align: right;\">\n",
       "      <th></th>\n",
       "      <th>Launch Price</th>\n",
       "      <th>CAMERA</th>\n",
       "      <th>AUDIO</th>\n",
       "      <th>DISPLAY</th>\n",
       "      <th>BATTERY</th>\n",
       "    </tr>\n",
       "  </thead>\n",
       "  <tbody>\n",
       "    <tr>\n",
       "      <th>Launch Price</th>\n",
       "      <td>1.000000</td>\n",
       "      <td>0.733847</td>\n",
       "      <td>0.288375</td>\n",
       "      <td>0.369033</td>\n",
       "      <td>-0.252661</td>\n",
       "    </tr>\n",
       "    <tr>\n",
       "      <th>CAMERA</th>\n",
       "      <td>0.733847</td>\n",
       "      <td>1.000000</td>\n",
       "      <td>0.373262</td>\n",
       "      <td>0.434418</td>\n",
       "      <td>-0.172109</td>\n",
       "    </tr>\n",
       "    <tr>\n",
       "      <th>AUDIO</th>\n",
       "      <td>0.288375</td>\n",
       "      <td>0.373262</td>\n",
       "      <td>1.000000</td>\n",
       "      <td>0.396990</td>\n",
       "      <td>-0.176475</td>\n",
       "    </tr>\n",
       "    <tr>\n",
       "      <th>DISPLAY</th>\n",
       "      <td>0.369033</td>\n",
       "      <td>0.434418</td>\n",
       "      <td>0.396990</td>\n",
       "      <td>1.000000</td>\n",
       "      <td>0.017346</td>\n",
       "    </tr>\n",
       "    <tr>\n",
       "      <th>BATTERY</th>\n",
       "      <td>-0.252661</td>\n",
       "      <td>-0.172109</td>\n",
       "      <td>-0.176475</td>\n",
       "      <td>0.017346</td>\n",
       "      <td>1.000000</td>\n",
       "    </tr>\n",
       "  </tbody>\n",
       "</table>\n",
       "</div>"
      ],
      "text/plain": [
       "              Launch Price    CAMERA     AUDIO   DISPLAY   BATTERY\n",
       "Launch Price      1.000000  0.733847  0.288375  0.369033 -0.252661\n",
       "CAMERA            0.733847  1.000000  0.373262  0.434418 -0.172109\n",
       "AUDIO             0.288375  0.373262  1.000000  0.396990 -0.176475\n",
       "DISPLAY           0.369033  0.434418  0.396990  1.000000  0.017346\n",
       "BATTERY          -0.252661 -0.172109 -0.176475  0.017346  1.000000"
      ]
     },
     "execution_count": 9,
     "metadata": {},
     "output_type": "execute_result"
    }
   ],
   "source": [
    "# correlation\n",
    "df_feature.corr()\n",
    "#keep all the feature based on correlation since the correlation are not high enough"
   ]
  },
  {
   "cell_type": "code",
   "execution_count": 10,
   "metadata": {},
   "outputs": [
    {
     "data": {
      "text/html": [
       "<div>\n",
       "<style scoped>\n",
       "    .dataframe tbody tr th:only-of-type {\n",
       "        vertical-align: middle;\n",
       "    }\n",
       "\n",
       "    .dataframe tbody tr th {\n",
       "        vertical-align: top;\n",
       "    }\n",
       "\n",
       "    .dataframe thead th {\n",
       "        text-align: right;\n",
       "    }\n",
       "</style>\n",
       "<table border=\"1\" class=\"dataframe\">\n",
       "  <thead>\n",
       "    <tr style=\"text-align: right;\">\n",
       "      <th></th>\n",
       "      <th>Device</th>\n",
       "      <th>Launch Price</th>\n",
       "      <th>Launch Date</th>\n",
       "      <th>CAMERA</th>\n",
       "      <th>SELFIE</th>\n",
       "      <th>AUDIO</th>\n",
       "      <th>DISPLAY</th>\n",
       "      <th>BATTERY</th>\n",
       "      <th>buying_intent</th>\n",
       "    </tr>\n",
       "  </thead>\n",
       "  <tbody>\n",
       "    <tr>\n",
       "      <th>0</th>\n",
       "      <td>Xiaomi 12T</td>\n",
       "      <td>599</td>\n",
       "      <td>2022-10-01</td>\n",
       "      <td>115</td>\n",
       "      <td>130.0</td>\n",
       "      <td>126.0</td>\n",
       "      <td>131.0</td>\n",
       "      <td>118.0</td>\n",
       "      <td>moderately_willing</td>\n",
       "    </tr>\n",
       "    <tr>\n",
       "      <th>1</th>\n",
       "      <td>OnePlus Nord 2T 5G</td>\n",
       "      <td>399</td>\n",
       "      <td>2022-05-01</td>\n",
       "      <td>114</td>\n",
       "      <td>130.0</td>\n",
       "      <td>115.0</td>\n",
       "      <td>128.0</td>\n",
       "      <td>112.0</td>\n",
       "      <td>moderately_willing</td>\n",
       "    </tr>\n",
       "    <tr>\n",
       "      <th>2</th>\n",
       "      <td>Samsung Galaxy S21+ 5G (Exynos)</td>\n",
       "      <td>1059</td>\n",
       "      <td>2021-01-01</td>\n",
       "      <td>111</td>\n",
       "      <td>130.0</td>\n",
       "      <td>124.0</td>\n",
       "      <td>128.0</td>\n",
       "      <td>114.0</td>\n",
       "      <td>moderately_willing</td>\n",
       "    </tr>\n",
       "    <tr>\n",
       "      <th>3</th>\n",
       "      <td>Oppo A94 5G</td>\n",
       "      <td>359</td>\n",
       "      <td>2021-03-01</td>\n",
       "      <td>93</td>\n",
       "      <td>130.0</td>\n",
       "      <td>124.0</td>\n",
       "      <td>128.0</td>\n",
       "      <td>127.0</td>\n",
       "      <td>not_willing</td>\n",
       "    </tr>\n",
       "    <tr>\n",
       "      <th>4</th>\n",
       "      <td>Apple iPhone 14 Plus</td>\n",
       "      <td>899</td>\n",
       "      <td>2022-10-01</td>\n",
       "      <td>133</td>\n",
       "      <td>144.0</td>\n",
       "      <td>141.0</td>\n",
       "      <td>140.0</td>\n",
       "      <td>128.0</td>\n",
       "      <td>very_willing</td>\n",
       "    </tr>\n",
       "  </tbody>\n",
       "</table>\n",
       "</div>"
      ],
      "text/plain": [
       "                            Device  Launch Price Launch Date  CAMERA  SELFIE  \\\n",
       "0                       Xiaomi 12T           599  2022-10-01     115   130.0   \n",
       "1               OnePlus Nord 2T 5G           399  2022-05-01     114   130.0   \n",
       "2  Samsung Galaxy S21+ 5G (Exynos)          1059  2021-01-01     111   130.0   \n",
       "3                      Oppo A94 5G           359  2021-03-01      93   130.0   \n",
       "4             Apple iPhone 14 Plus           899  2022-10-01     133   144.0   \n",
       "\n",
       "   AUDIO  DISPLAY  BATTERY       buying_intent  \n",
       "0  126.0    131.0    118.0  moderately_willing  \n",
       "1  115.0    128.0    112.0  moderately_willing  \n",
       "2  124.0    128.0    114.0  moderately_willing  \n",
       "3  124.0    128.0    127.0         not_willing  \n",
       "4  141.0    140.0    128.0        very_willing  "
      ]
     },
     "execution_count": 10,
     "metadata": {},
     "output_type": "execute_result"
    }
   ],
   "source": [
    "df.head()"
   ]
  },
  {
   "cell_type": "code",
   "execution_count": 11,
   "metadata": {},
   "outputs": [],
   "source": [
    "# 3.2.1 Prepare your Data for Naive Bayes\n",
    "# I had created Labels in the EDA Process\n",
    "from sklearn.model_selection import train_test_split"
   ]
  },
  {
   "cell_type": "code",
   "execution_count": 12,
   "metadata": {},
   "outputs": [],
   "source": [
    "X=df_feature\n",
    "y = df['buying_intent'].map({'very_willing': 1, 'moderately_willing': 0,'not_willing':-1 })"
   ]
  },
  {
   "cell_type": "code",
   "execution_count": 13,
   "metadata": {},
   "outputs": [
    {
     "data": {
      "text/plain": [
       "0      0\n",
       "1      0\n",
       "2      0\n",
       "3     -1\n",
       "4      1\n",
       "      ..\n",
       "148    0\n",
       "149   -1\n",
       "150    1\n",
       "151    0\n",
       "152   -1\n",
       "Name: buying_intent, Length: 153, dtype: int64"
      ]
     },
     "execution_count": 13,
     "metadata": {},
     "output_type": "execute_result"
    }
   ],
   "source": [
    "y"
   ]
  },
  {
   "cell_type": "code",
   "execution_count": 14,
   "metadata": {},
   "outputs": [],
   "source": [
    "#training 70%\n",
    "#validation 15%\n",
    "#test 15%\n",
    "X_train, X_temp, y_train, y_temp = train_test_split(X, y, test_size=0.3, random_state=42)\n",
    "X_val, X_test, y_val, y_test = train_test_split(X_temp, y_temp, test_size=0.5, random_state=42)"
   ]
  },
  {
   "cell_type": "code",
   "execution_count": 15,
   "metadata": {},
   "outputs": [],
   "source": [
    "#3.2.3 Naive Bayes (NB) with Labeled Record Data\n",
    "from sklearn.naive_bayes import GaussianNB"
   ]
  },
  {
   "cell_type": "code",
   "execution_count": 16,
   "metadata": {},
   "outputs": [],
   "source": [
    "model=GaussianNB()\n",
    "model.fit(X_train,y_train)\n",
    "y_model=model.predict(X_val)"
   ]
  },
  {
   "cell_type": "code",
   "execution_count": 17,
   "metadata": {},
   "outputs": [],
   "source": [
    "from sklearn.metrics import accuracy_score,precision_score, recall_score, f1_score, confusion_matrix"
   ]
  },
  {
   "cell_type": "code",
   "execution_count": 18,
   "metadata": {},
   "outputs": [
    {
     "name": "stdout",
     "output_type": "stream",
     "text": [
      "Accuracy: 0.9130434782608695\n",
      "Precision: 0.8585858585858586\n",
      "Recall: 0.9363636363636364\n",
      "F1-Score: 0.8854864433811803\n"
     ]
    }
   ],
   "source": [
    "# Evaluation metrics\n",
    "accuracy = accuracy_score(y_val,y_model)\n",
    "precision = precision_score(y_val,y_model, average='macro')\n",
    "recall = recall_score(y_val,y_model, average='macro')\n",
    "f1 = f1_score(y_val,y_model, average='macro')\n",
    "\n",
    "print(\"Accuracy:\", accuracy)\n",
    "print(\"Precision:\", precision)\n",
    "print(\"Recall:\", recall)\n",
    "print(\"F1-Score:\", f1)"
   ]
  },
  {
   "cell_type": "code",
   "execution_count": 19,
   "metadata": {},
   "outputs": [],
   "source": [
    "from sklearn.metrics import confusion_matrix"
   ]
  },
  {
   "cell_type": "code",
   "execution_count": 20,
   "metadata": {},
   "outputs": [],
   "source": [
    "val_matrix=confusion_matrix(y_val,y_model)"
   ]
  },
  {
   "cell_type": "code",
   "execution_count": 21,
   "metadata": {},
   "outputs": [
    {
     "data": {
      "image/png": "[encoded data removed]",
      "text/plain": [
       "<Figure size 600x400 with 2 Axes>"
      ]
     },
     "metadata": {},
     "output_type": "display_data"
    }
   ],
   "source": [
    "import seaborn as sns\n",
    "import matplotlib.pyplot as plt\n",
    "\n",
    "# Define class labels (optional, for labeling the axes)\n",
    "class_labels = ['Very Willing', 'Moderately Willing', 'Not willing']\n",
    "\n",
    "# Create a heatmap from the confusion matrix\n",
    "plt.figure(figsize=(6, 4))  # Set the figure size (optional)\n",
    "sns.heatmap(val_matrix, annot=True, fmt='d', cmap='Blues', xticklabels=class_labels, yticklabels=class_labels)\n",
    "\n",
    "# Add labels and title (optional)\n",
    "plt.xlabel('Predicted')\n",
    "plt.ylabel('Actual')\n",
    "plt.title('Confusion Matrix Heatmap')\n",
    "\n",
    "# Show the heatmap\n",
    "plt.show()"
   ]
  },
  {
   "cell_type": "code",
   "execution_count": 22,
   "metadata": {},
   "outputs": [],
   "source": [
    "from sklearn.feature_extraction.text import TfidfVectorizer\n",
    "from sklearn.linear_model import LogisticRegression\n",
    "from sklearn.model_selection import GridSearchCV\n",
    "from sklearn.metrics import classification_report, accuracy_score, confusion_matrix, roc_auc_score, roc_curve"
   ]
  },
  {
   "cell_type": "code",
   "execution_count": 23,
   "metadata": {},
   "outputs": [],
   "source": [
    "def get_metrics(y_true, y_preds, pred_proba=None):\n",
    "    print(f'Accuracy Score: {accuracy_score(y_true, y_preds)}')\n",
    "    if pred_proba is not None:\n",
    "        print(f'ROC AUC Score: {roc_auc_score(y_true, pred_proba, multi_class=\"ovo\")}')\n",
    "    print(classification_report(y_true, y_preds))\n",
    "    plt.figure(figsize=(18,6))\n",
    "    sns.heatmap(confusion_matrix(y_true, y_preds), annot=True)"
   ]
  },
  {
   "cell_type": "code",
   "execution_count": 24,
   "metadata": {},
   "outputs": [
    {
     "name": "stdout",
     "output_type": "stream",
     "text": [
      "Accuracy Score: 0.9130434782608695\n",
      "              precision    recall  f1-score   support\n",
      "\n",
      "          -1       0.67      1.00      0.80         2\n",
      "           0       0.91      0.91      0.91        11\n",
      "           1       1.00      0.90      0.95        10\n",
      "\n",
      "    accuracy                           0.91        23\n",
      "   macro avg       0.86      0.94      0.89        23\n",
      "weighted avg       0.93      0.91      0.92        23\n",
      "\n"
     ]
    },
    {
     "data": {
      "image/png": "[encoded data removed]",
      "text/plain": [
       "<Figure size 1800x600 with 2 Axes>"
      ]
     },
     "metadata": {},
     "output_type": "display_data"
    }
   ],
   "source": [
    "get_metrics(y_val,y_model)"
   ]
  },
  {
   "cell_type": "code",
   "execution_count": 25,
   "metadata": {},
   "outputs": [],
   "source": [
    "model2=GaussianNB()\n",
    "model2.fit(X_test,y_test)\n",
    "y_model2=model.predict(X_test)"
   ]
  },
  {
   "cell_type": "code",
   "execution_count": 26,
   "metadata": {},
   "outputs": [
    {
     "name": "stdout",
     "output_type": "stream",
     "text": [
      "Accuracy Score: 1.0\n",
      "              precision    recall  f1-score   support\n",
      "\n",
      "          -1       1.00      1.00      1.00         9\n",
      "           0       1.00      1.00      1.00         6\n",
      "           1       1.00      1.00      1.00         8\n",
      "\n",
      "    accuracy                           1.00        23\n",
      "   macro avg       1.00      1.00      1.00        23\n",
      "weighted avg       1.00      1.00      1.00        23\n",
      "\n"
     ]
    },
    {
     "data": {
      "image/png": "[encoded data removed]",
      "text/plain": [
       "<Figure size 1800x600 with 2 Axes>"
      ]
     },
     "metadata": {},
     "output_type": "display_data"
    }
   ],
   "source": [
    "get_metrics(y_test,y_model2)"
   ]
  },
  {
   "cell_type": "code",
   "execution_count": 27,
   "metadata": {},
   "outputs": [],
   "source": [
    "# 3.2.2 the feature selection"
   ]
  },
  {
   "cell_type": "code",
   "execution_count": 28,
   "metadata": {},
   "outputs": [],
   "source": [
    "from sklearn.naive_bayes import GaussianNB\n",
    "from sklearn.metrics import accuracy_score\n",
    "import random\n",
    "\n",
    "def train_GNB_model(x_train,y_train,x_test,y_test,i_print=False):\n",
    "\n",
    "    # INSERT CODE HERE  \n",
    "    model = GaussianNB()\n",
    "    model.fit(x_train,y_train)\n",
    "    y_in_sample = model.predict(x_train)\n",
    "    acc_train=accuracy_score(y_train,y_in_sample)\n",
    "    y_out_sample = model.predict(x_test)\n",
    "    acc_test=accuracy_score(y_test,y_out_sample)\n",
    "    if i_print:\n",
    "        print(acc_train*100,acc_test*100)\n",
    "    return(acc_train,acc_test)"
   ]
  },
  {
   "cell_type": "code",
   "execution_count": 29,
   "metadata": {},
   "outputs": [],
   "source": [
    "# DIGITS\n",
    "from sklearn import datasets\n",
    "(X,y)=datasets.load_digits(n_class=10, return_X_y=True, as_frame=False)"
   ]
  },
  {
   "cell_type": "code",
   "execution_count": 30,
   "metadata": {},
   "outputs": [],
   "source": [
    "# SET INDICES FOR TRAIN/TEST SET\n",
    "N=X.shape[0]\n",
    "l = [*range(N)]       # indices\n",
    "cut = int(0.7 * N)    # 70% of the list\n",
    "random.shuffle(l)     # randomize\n",
    "train_index = l[:cut] # first 70% of shuffled list\n",
    "test_index = l[cut:]  # last 30% of shuffled list"
   ]
  },
  {
   "cell_type": "code",
   "execution_count": 31,
   "metadata": {},
   "outputs": [
    {
     "data": {
      "text/plain": [
       "array([[ 0.,  0.,  0., ..., 15.,  8.,  0.],\n",
       "       [ 0.,  0.,  9., ...,  8.,  0.,  0.],\n",
       "       [ 0.,  0.,  8., ..., 11.,  0.,  0.],\n",
       "       ...,\n",
       "       [ 0.,  0.,  2., ..., 11.,  0.,  0.],\n",
       "       [ 0.,  0.,  0., ..., 12.,  5.,  0.],\n",
       "       [ 0.,  0.,  7., ..., 13.,  2.,  0.]])"
      ]
     },
     "execution_count": 31,
     "metadata": {},
     "output_type": "execute_result"
    }
   ],
   "source": [
    "X[train_index]"
   ]
  },
  {
   "cell_type": "code",
   "execution_count": 32,
   "metadata": {},
   "outputs": [
    {
     "name": "stdout",
     "output_type": "stream",
     "text": [
      "0.0\n",
      "42.72106450836808\n"
     ]
    }
   ],
   "source": [
    "# COMPUTE UPPER AND LOWER LIMIT FOR VARIANCE ACCROSS SAMPLES\n",
    "x_var=np.var(X,axis=0)\n",
    "print(np.min(x_var))\n",
    "print(np.max(x_var))"
   ]
  },
  {
   "cell_type": "code",
   "execution_count": 33,
   "metadata": {},
   "outputs": [
    {
     "name": "stdout",
     "output_type": "stream",
     "text": [
      "87.98727128082736 81.2962962962963\n",
      "1.4731401554609682 47\n",
      "0.8611111111111112\n",
      "2.9462803109219364 47\n",
      "0.8611111111111112\n",
      "4.419420466382904 45\n",
      "0.8759259259259259\n",
      "5.892560621843873 45\n",
      "0.8759259259259259\n",
      "7.365700777304841 45\n",
      "0.8759259259259259\n",
      "8.838840932765809 45\n",
      "0.8759259259259259\n",
      "10.311981088226778 42\n",
      "0.8685185185185185\n",
      "11.785121243687746 40\n",
      "0.8629629629629629\n",
      "13.258261399148713 36\n",
      "0.8481481481481481\n",
      "14.731401554609683 35\n",
      "0.8388888888888889\n",
      "16.20454171007065 34\n",
      "0.8388888888888889\n",
      "17.677681865531618 33\n",
      "0.8685185185185185\n",
      "19.150822020992585 29\n",
      "0.8759259259259259\n",
      "20.623962176453556 29\n",
      "0.8759259259259259\n",
      "22.097102331914524 29\n",
      "0.8759259259259259\n",
      "23.57024248737549 27\n",
      "0.8722222222222222\n",
      "25.04338264283646 25\n",
      "0.8907407407407407\n",
      "26.516522798297427 24\n",
      "0.8907407407407407\n",
      "27.989662953758398 23\n",
      "0.8870370370370371\n",
      "29.462803109219365 21\n",
      "0.8703703703703703\n",
      "30.935943264680333 21\n",
      "0.8703703703703703\n",
      "32.4090834201413 18\n",
      "0.8518518518518519\n",
      "33.88222357560227 16\n",
      "0.85\n",
      "35.355363731063235 11\n",
      "0.774074074074074\n",
      "36.8285038865242 9\n",
      "0.7703703703703704\n",
      "38.30164404198517 7\n",
      "0.7481481481481481\n",
      "39.774784197446145 3\n",
      "0.42962962962962964\n"
     ]
    }
   ],
   "source": [
    "# VARIANCE THRESHOLD SEARCH\n",
    "\n",
    "from sklearn.feature_selection import VarianceThreshold\n",
    "\n",
    "# DEFINE GRID OF THRESHOLDS \n",
    "num_thresholds=30\n",
    "thresholds=np.linspace(np.min(x_var),np.max(x_var),num_thresholds)\n",
    "\n",
    "# DOESN\"T WORK WELL WITH EDGE VALUES (ZERO VAR)\n",
    "thresholds=thresholds[1:-2]; \n",
    "#print(thresholds)\n",
    "\n",
    "# INITIALIZE ARRAYS\n",
    "num_features=[]\n",
    "train_accuracies=[]\n",
    "test_accuracies=[]\n",
    "\n",
    "#FULL TRAINING SET\n",
    "x_train=X[train_index]; y_train=y[train_index]\n",
    "x_test=X[test_index]; y_test=y[test_index]\n",
    "(acc_train,acc_test)=train_GNB_model(x_train,y_train,x_test,y_test,i_print=True)\n",
    "num_features.append(x_train.shape[1])\n",
    "train_accuracies.append(acc_train)\n",
    "test_accuracies.append(acc_test)\n",
    "\n",
    "# SEARCH FOR OPTIMAL THRESHOLD\n",
    "for THRESHOLD in thresholds:\n",
    "    feature_selector = VarianceThreshold(threshold=THRESHOLD)\n",
    "    xtmp=feature_selector.fit_transform(X)\n",
    "    print(THRESHOLD, xtmp.shape[1])\n",
    "\n",
    "    x_train=xtmp[train_index]; y_train=y[train_index]\n",
    "    x_test=xtmp[test_index]; y_test=y[test_index]\n",
    "\n",
    "    (acc_train,acc_test)=train_GNB_model(x_train,y_train,x_test,y_test,i_print=False)\n",
    "             \n",
    "    #RECORD \n",
    "    num_features.append(xtmp.shape[1])\n",
    "    train_accuracies.append(acc_train)\n",
    "    test_accuracies.append(acc_test)\n",
    "    print(acc_test)"
   ]
  },
  {
   "cell_type": "code",
   "execution_count": 34,
   "metadata": {},
   "outputs": [],
   "source": [
    "optimal_index = test_accuracies.index(max(test_accuracies))\n",
    "optimal_thredhold = thresholds[optimal_index]\n",
    "optimal_test_accuracy = test_accuracies[optimal_index]"
   ]
  },
  {
   "cell_type": "code",
   "execution_count": 35,
   "metadata": {},
   "outputs": [
    {
     "name": "stdout",
     "output_type": "stream",
     "text": [
      "Optimal thredhold: 26.516522798297427\n",
      "Optimal Test Accuracy: 0.8907407407407407\n"
     ]
    }
   ],
   "source": [
    "print(\"Optimal thredhold:\", optimal_thredhold)\n",
    "print(\"Optimal Test Accuracy:\", optimal_test_accuracy)"
   ]
  },
  {
   "cell_type": "code",
   "execution_count": 36,
   "metadata": {},
   "outputs": [
    {
     "data": {
      "image/png": "[encoded data removed]",
      "text/plain": [
       "<Figure size 640x480 with 1 Axes>"
      ]
     },
     "metadata": {},
     "output_type": "display_data"
    }
   ],
   "source": [
    "#PLOT-1\n",
    "plt.plot(num_features,train_accuracies,'-or')\n",
    "plt.plot(num_features,test_accuracies,'-ob')\n",
    "plt.xlabel('Number of features')\n",
    "plt.ylabel('ACCURACY: Training (blue) and Test (red)')\n",
    "plt.show()"
   ]
  }
 ],
 "metadata": {
  "kernelspec": {
   "display_name": "base",
   "language": "python",
   "name": "python3"
  },
  "language_info": {
   "codemirror_mode": {
    "name": "ipython",
    "version": 3
   },
   "file_extension": ".py",
   "mimetype": "text/x-python",
   "name": "python",
   "nbconvert_exporter": "python",
   "pygments_lexer": "ipython3",
   "version": "3.9.17"
  }
 },
 "nbformat": 4,
 "nbformat_minor": 2
}
